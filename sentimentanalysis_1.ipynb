import pandas as pd
import numpy as np
import matplotlib.pyplot as plt
import seaborn as sns
from sklearn.model_selection import train_test_split
from sklearn.feature_extraction.text import TfidfVectorizer
from sklearn.linear_model import LogisticRegression
from sklearn.metrics import classification_report, accuracy_score, confusion_matrix
import re

data = pd.read_csv('https://raw.githubusercontent.com/dD2405/Twitter_Sentiment_Analysis/master/train.csv')
data = data[['tweet', 'label']]
data.columns = ['review', 'sentiment']

def clean_text(text):
    text = re.sub(r"http\S+", "", text)        
    text = re.sub(r"@\w+", "", text)           
    text = re.sub(r"[^A-Za-z\s]", "", text)    
    text = text.lower()                        
    text = re.sub(r"\s+", " ", text).strip()   
    return text

data['clean_review'] = data['review'].apply(clean_text)

tfidf = TfidfVectorizer(stop_words='english', max_df=0.95)
X = tfidf.fit_transform(data['clean_review'])
y = data['sentiment']

X_train, X_test, y_train, y_test = train_test_split(
    X, y, test_size=0.2, random_state=42
)

model = LogisticRegression(max_iter=1000)
model.fit(X_train, y_train)

y_pred = model.predict(X_test)

print("Accuracy Score:", accuracy_score(y_test, y_pred))
print("\nClassification Report:")
print(classification_report(y_test, y_pred))

conf_matrix = confusion_matrix(y_test, y_pred)
sns.heatmap(conf_matrix, annot=True, cmap="Blues", fmt="d")
plt.xlabel("Predicted")
plt.ylabel("Actual")
plt.title("Confusion Matrix")
plt.show()

